{
  "nbformat": 4,
  "nbformat_minor": 0,
  "metadata": {
    "colab": {
      "name": "프로그래머스_2016년.ipynb",
      "provenance": [],
      "collapsed_sections": [],
      "authorship_tag": "ABX9TyNNj2RHfLdNcklq00VGtqdK",
      "include_colab_link": true
    },
    "kernelspec": {
      "name": "python3",
      "display_name": "Python 3"
    },
    "language_info": {
      "name": "python"
    }
  },
  "cells": [
    {
      "cell_type": "markdown",
      "metadata": {
        "id": "view-in-github",
        "colab_type": "text"
      },
      "source": [
        "<a href=\"https://colab.research.google.com/github/jaragos0s/coding_practice/blob/main/%ED%94%84%EB%A1%9C%EA%B7%B8%EB%9E%98%EB%A8%B8%EC%8A%A4_2016%EB%85%84.ipynb\" target=\"_parent\"><img src=\"https://colab.research.google.com/assets/colab-badge.svg\" alt=\"Open In Colab\"/></a>"
      ]
    },
    {
      "cell_type": "markdown",
      "metadata": {
        "id": "tkoIFzg_jkEu"
      },
      "source": [
        "2016년 1월 1일은 금요일입니다. 2016년 a월 b일은 무슨 요일일까요? 두 수 a ,b를 입력받아 2016년 a월 b일이 무슨 요일인지 리턴하는 함수, solution을 완성하세요. 요일의 이름은 일요일부터 토요일까지 각각 SUN,MON,TUE,WED,THU,FRI,SAT\n",
        "\n",
        "입니다. 예를 들어 a=5, b=24라면 5월 24일은 화요일이므로 문자열 \"TUE\"를 반환하세요."
      ]
    },
    {
      "cell_type": "markdown",
      "metadata": {
        "id": "c30eEfdJj2Ws"
      },
      "source": [
        "제한 조건\n",
        "2016년은 윤년입니다.\n",
        "2016년 a월 b일은 실제로 있는 날입니다. (13월 26일이나 2월 45일같은 날짜는 주어지지 않습니다)"
      ]
    },
    {
      "cell_type": "code",
      "metadata": {
        "id": "NUNVzMf5jdtw"
      },
      "source": [
        "def solution(a, b):\n",
        "    days = ['FRI', 'SAT', 'SUN','MON', 'TUE', 'WED', 'THU']\n",
        "    month = [0, 3, 1, 3, 2, 3, 2, 3, 3, 2, 3, 2, 3]\n",
        "    answer = days[(sum(month[0:a])+ (b-1)) % 7]\n",
        "    return answer"
      ],
      "execution_count": null,
      "outputs": []
    }
  ]
}